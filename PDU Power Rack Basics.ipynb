{
 "cells": [
  {
   "cell_type": "markdown",
   "metadata": {},
   "source": [
    "###  Commands to login in PDU power rack and change/assign ip addresses:"
   ]
  },
  {
   "cell_type": "code",
   "execution_count": null,
   "metadata": {},
   "outputs": [],
   "source": [
    "Steps you will need in order to assign a static address to rack.\n",
    "1. Make sure your network port on rack is connected to a Network.\n",
    "2. You need to telnet into the step 1 address example : telnet 10.20.172.39\n",
    "3. It will ask for login/pwd which is apc/apc.\n",
    "3. You can manually look at screen on rack and check what is your ip address you are currently connected to.\n",
    "4. Type tcpip command to get the info about your current network, it will output something like following,:\n",
    "    tcpip:\n",
    "    Ouput you will get looks like following:\n",
    "\n",
    "\n",
    "   Active IPv4 Settings\n",
    "   --------------------\n",
    "   Active IPv4 Address:          10.20.172.39\n",
    "   Active IPv4 Subnet Mask:      255.255.248.0\n",
    "   Active IPv4 Gateway:          10.20.168.1\n",
    "   \n",
    "4.apc>tcpip -?(Gives all the useful commands you can use here for example setting ip/gateway etc)\n",
    "\n",
    "Usage: tcpip  -- Configure and display TCP/IP v4 parameters\n",
    "    tcpip [-S <enable | disable>]\n",
    "          [-i <ipv4 address>]\n",
    "          [-s <subnet mask>]\n",
    "          [-g <gateway>]\n",
    "          [-d <domain name>]\n",
    "          [-h <host name>]\n",
    "5.type:tcpip -i 10.20.168.191(Changing the ip address from 10.20.172.39 to 10.20.168.191)\n",
    "6.type:tcpip -s 255.255.248.0  (Giving a gateway,it is usually same for organization)\n",
    "7.type:tcpip ig  10.20.681\n",
    "8.You need to reboot your switch, in order to do that you can just type: reboot and wait for your rack to get reboot.\n",
    "9.Verify the changes that you have made manually on rack by going into networks and matching it the new ip address.\n",
    "    \n",
    "    \n"
   ]
  },
  {
   "cell_type": "code",
   "execution_count": null,
   "metadata": {},
   "outputs": [],
   "source": [
    "System Commands:\n",
    "---------------------------------------------------------------------------\n",
    "For command help: command ?\n",
    "\n",
    "?           about       alarmcount  boot        bye         cd\n",
    "clrrst      console     date        delete      dir         dns\n",
    "email       eventlog    exit        firewall    format      ftp\n",
    "help        lang        lastrst     ledblink    logzip      netstat\n",
    "ntp         ping        portspeed   prompt      pwd         quit\n",
    "radius      reboot      resetToDef  session     smtp        snmp\n",
    "snmptrap    snmpv3      system      tcpip       tcpip6      user\n",
    "userdflt    web         whoami      xferINI     xferStatus\n",
    "\n",
    "Device Commands:\n",
    "---------------------------------------------------------------------------\n",
    "bkLowLoad   bkNearOver  bkOverLoad  bkReading   bkPeakCurr  bkRestrictn\n",
    "devLowLoad  devNearOver devOverLoad devReading  devPeakLoad devStartDly\n",
    "dispID      humLow      humMin      humHyst     humReading  lcd\n",
    "lcdBlink    olAssignUsr olCancelCmd olDlyOff    olDlyOn     olDlyReboot\n",
    "olGroups    olName      olOff       olOffDelay  olOn       olOnDelay\n",
    "olRbootTime olReboot    olStatus    olUnasgnUsr phLowLoad   phNearOver\n",
    "phOverLoad  phReading   phPeakCurr  phRestrictn prodInfo    sensorName\n",
    "tempHigh    tempMax     tempHyst    tempReading userAdd     userDelete\n",
    "userList    userPasswd  energyWise"
   ]
  }
 ],
 "metadata": {
  "kernelspec": {
   "display_name": "Python 3",
   "language": "python",
   "name": "python3"
  },
  "language_info": {
   "codemirror_mode": {
    "name": "ipython",
    "version": 3
   },
   "file_extension": ".py",
   "mimetype": "text/x-python",
   "name": "python",
   "nbconvert_exporter": "python",
   "pygments_lexer": "ipython3",
   "version": "3.8.5"
  }
 },
 "nbformat": 4,
 "nbformat_minor": 4
}
